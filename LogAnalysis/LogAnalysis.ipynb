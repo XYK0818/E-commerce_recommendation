{
 "cells": [
  {
   "cell_type": "markdown",
   "metadata": {},
   "source": [
    "# Set spark environment and import geoip2 database"
   ]
  },
  {
   "cell_type": "code",
   "execution_count": 1,
   "metadata": {},
   "outputs": [
    {
     "data": {
      "text/plain": [
       "'2.4.2'"
      ]
     },
     "execution_count": 1,
     "metadata": {},
     "output_type": "execute_result"
    }
   ],
   "source": [
    "from pyspark import SparkContext, SparkConf\n",
    "conf = SparkConf().setAppName(\"SecondarySort\")\n",
    "sc = SparkContext(conf=conf)\n",
    "sc.version"
   ]
  },
  {
   "cell_type": "code",
   "execution_count": 2,
   "metadata": {},
   "outputs": [],
   "source": [
    "from pyspark.sql import SparkSession\n",
    "spark = SparkSession(sc)"
   ]
  },
  {
   "cell_type": "code",
   "execution_count": 3,
   "metadata": {},
   "outputs": [
    {
     "name": "stdout",
     "output_type": "stream",
     "text": [
      "de: China\n",
      "en: China\n",
      "es: China\n",
      "fr: Chine\n",
      "ja: 中国\n",
      "pt-BR: China\n",
      "ru: Китай\n",
      "zh-CN: 中国\n"
     ]
    }
   ],
   "source": [
    "import geoip2.database\n",
    "import os\n",
    "reader = geoip2.database.Reader(os.getcwd() + '/GeoLite2-Country.mmdb')\n",
    "c = reader.country('14.215.177.39')\n",
    "for key, value in c.country.names.items():\n",
    "    print(\"%s: %s\" % (key, value))"
   ]
  },
  {
   "cell_type": "markdown",
   "metadata": {},
   "source": [
    "# Load file"
   ]
  },
  {
   "cell_type": "code",
   "execution_count": 4,
   "metadata": {},
   "outputs": [
    {
     "name": "stdout",
     "output_type": "stream",
     "text": [
      "+-------------------+--------------------------------+--------------+\n",
      "|TimeStamp          |url                             |IP_address    |\n",
      "+-------------------+--------------------------------+--------------+\n",
      "|2017-05-11 14:09:14|http://www.ign.com/video/4500   |87.214.232.203|\n",
      "|2017-05-11 15:25:05|http://www.ign.com/video/14623  |81.45.64.179  |\n",
      "|2017-05-11 07:50:01|http://www.ign.com/article/17894|80.210.128.135|\n",
      "|2017-05-11 02:46:43|http://www.ign.com/article/17896|64.35.194.206 |\n",
      "|2017-05-11 09:30:25|http://www.ign.com/article/17893|222.221.42.166|\n",
      "+-------------------+--------------------------------+--------------+\n",
      "only showing top 5 rows\n",
      "\n"
     ]
    }
   ],
   "source": [
    "path = \"file://\" + os.getcwd() + \"/access.log\"\n",
    "rawData = sc.textFile(path)\n",
    "rawData.map(lambda x : x.split(\",\")) \\\n",
    "        .map(lambda x : (x[0], x[1], x[2])) \\\n",
    "        .toDF((\"TimeStamp\", \"url\", \"IP_address\")) \\\n",
    "        .show(5, False)"
   ]
  },
  {
   "cell_type": "markdown",
   "metadata": {},
   "source": [
    "# Parse the data and create a new table"
   ]
  },
  {
   "cell_type": "code",
   "execution_count": 5,
   "metadata": {},
   "outputs": [],
   "source": [
    "def mapfunc1(line):\n",
    "    import geoip2.database\n",
    "    line = line.strip()\n",
    "    timeStamp, url, IP = tuple(line.split(\",\"))\n",
    "    elements = url.split(\"/\")\n",
    "    contentId, contentType = elements[-1], elements[-2]\n",
    "    try:\n",
    "        reader = geoip2.database.Reader(os.getcwd() + '/GeoLite2-Country.mmdb')\n",
    "        c = reader.country(IP)\n",
    "        c_name = c.country.names['en']\n",
    "    except:\n",
    "        c_name = \"NotFound\"\n",
    "        \n",
    "    return (contentId, contentType, c_name, IP, timeStamp)\n"
   ]
  },
  {
   "cell_type": "code",
   "execution_count": 6,
   "metadata": {},
   "outputs": [
    {
     "name": "stdout",
     "output_type": "stream",
     "text": [
      "+---------+-----------+-------------+--------------+-------------------+\n",
      "|contentId|contentType|country      |IPAddress     |timeStamp          |\n",
      "+---------+-----------+-------------+--------------+-------------------+\n",
      "|4500     |video      |Netherlands  |87.214.232.203|2017-05-11 14:09:14|\n",
      "|14623    |video      |Spain        |81.45.64.179  |2017-05-11 15:25:05|\n",
      "|17894    |article    |Iran         |80.210.128.135|2017-05-11 07:50:01|\n",
      "|17896    |article    |United States|64.35.194.206 |2017-05-11 02:46:43|\n",
      "|17893    |article    |China        |222.221.42.166|2017-05-11 09:30:25|\n",
      "+---------+-----------+-------------+--------------+-------------------+\n",
      "only showing top 5 rows\n",
      "\n"
     ]
    }
   ],
   "source": [
    "allData = rawData.map(mapfunc1)\n",
    "allData.toDF((\"contentId\", \"contentType\", \"country\", \"IPAddress\", \"timeStamp\")) \\\n",
    "        .show(5, False)"
   ]
  },
  {
   "cell_type": "markdown",
   "metadata": {},
   "source": [
    "# List all videos based on popularity (in descending order)"
   ]
  },
  {
   "cell_type": "code",
   "execution_count": 7,
   "metadata": {},
   "outputs": [],
   "source": [
    "def mapfunc2(line):\n",
    "    line = line.strip()\n",
    "    timeStamp, url, IP = tuple(line.split(\",\"))\n",
    "    elements = url.split(\"/\")\n",
    "    contentId, contentType = elements[-1], elements[-2]\n",
    "    return (contentId, contentType, 1)"
   ]
  },
  {
   "cell_type": "code",
   "execution_count": 8,
   "metadata": {},
   "outputs": [
    {
     "name": "stdout",
     "output_type": "stream",
     "text": [
      "+---------+------+\n",
      "|contentId| count|\n",
      "+---------+------+\n",
      "|    14540|111027|\n",
      "|     4000| 55734|\n",
      "|    14704| 55701|\n",
      "|    14390| 55683|\n",
      "|    14623| 55621|\n",
      "|     4600| 55501|\n",
      "|     4500| 55366|\n",
      "|    14322| 55102|\n",
      "+---------+------+\n",
      "\n"
     ]
    }
   ],
   "source": [
    "rawData.map(mapfunc2) \\\n",
    "        .filter(lambda x : x[1] == \"video\") \\\n",
    "        .map(lambda x: (x[0], x[2])) \\\n",
    "        .reduceByKey(lambda x, y : x + y) \\\n",
    "        .sortBy(lambda x : x[1], False) \\\n",
    "        .toDF((\"contentId\", \"count\")) \\\n",
    "        .show()"
   ]
  },
  {
   "cell_type": "markdown",
   "metadata": {},
   "source": [
    "# For each country, show top 5  popular articles"
   ]
  },
  {
   "cell_type": "markdown",
   "metadata": {},
   "source": [
    "For all results showed above, I run the code on local. But for the last question, the running session takes me 2 hours and still can’t get result. Then I run the code on CloudxLab. Though it still run slowly, approximate 30 mins, I got the result below."
   ]
  },
  {
   "cell_type": "code",
   "execution_count": 9,
   "metadata": {},
   "outputs": [],
   "source": [
    "def mapfunc3(line):\n",
    "    line = line.strip()\n",
    "    timeStamp, url, IP = tuple(line.split(\",\"))\n",
    "    elements = url.split(\"/\")\n",
    "    contentId, contentType = elements[-1], elements[-2]\n",
    "    try:\n",
    "        reader = geoip2.database.Reader(os.getcwd() + '/GeoLite2-Country.mmdb')\n",
    "        c = reader.country(IP)\n",
    "        c_name = c.country.names['en']\n",
    "    except:\n",
    "        c_name = \"NotFound\"\n",
    "        \n",
    "    return (contentId, c_name)\n",
    "\n",
    "from pyspark.sql import Window\n",
    "from pyspark.sql import functions as F\n",
    "rawData.map(mapfunc3) \\\n",
    "        .toDF((\"contentId\", \"country\")) \\\n",
    "        .groupBy(\"country\", \"contentId\").count() \\\n",
    "        .select(\"contentId\", \"country\", \"count\",  \\\n",
    "                F.row_number().over(Window.partitionBy(\"country\") \\\n",
    "                                  .orderBy(F.col(\"count\").desc())).alias(\"rank\")) \\\n",
    "        .show(10)\n"
   ]
  },
  {
   "cell_type": "code",
   "execution_count": null,
   "metadata": {},
   "outputs": [],
   "source": [
    "+---------+--------+-----+----+                                                 \n",
    "|contentId| country|count|rank|\n",
    "+---------+--------+-----+----+\n",
    "|    14540|    Chad|    2|   1|\n",
    "|    17897|    Chad|    1|   2|\n",
    "|    17899|    Chad|    1|   3|\n",
    "|    17894|    Chad|    1|   4|\n",
    "|    17891|    Chad|    1|   5|\n",
    "|    14540|Paraguay|   33|   1|\n",
    "|    17891|Paraguay|   19|   2|\n",
    "|     4600|Paraguay|   18|   3|\n",
    "|    17899|Paraguay|   16|   4|\n",
    "|    14322|Paraguay|   16|   5|\n",
    "+---------+--------+-----+----+"
   ]
  }
 ],
 "metadata": {
  "kernelspec": {
   "display_name": "Python 3",
   "language": "python",
   "name": "python3"
  },
  "language_info": {
   "codemirror_mode": {
    "name": "ipython",
    "version": 3
   },
   "file_extension": ".py",
   "mimetype": "text/x-python",
   "name": "python",
   "nbconvert_exporter": "python",
   "pygments_lexer": "ipython3",
   "version": "3.6.4"
  }
 },
 "nbformat": 4,
 "nbformat_minor": 2
}
